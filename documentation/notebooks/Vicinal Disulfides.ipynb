{
 "cells": [
  {
   "cell_type": "markdown",
   "metadata": {},
   "source": [
    "# Example notebook for using the PDB and BMRB APIs for structural biology data science applications"
   ]
  },
  {
   "cell_type": "markdown",
   "metadata": {},
   "source": [
    "## Introduction\n",
    "This notebook is designed to walk through some sample queries of both the PDB and BMRB in order to correlate NMR parameters with structure.  It is hoped that this will give some guidance as to the utility of the wwPDB API's as well as to an overall strategy of how to gather data from the different databases.  This is not intended to be a tutorial on Python and no claim is made about the efficiency or correctness of the code."
   ]
  },
  {
   "cell_type": "markdown",
   "metadata": {},
   "source": [
    "## Research Problem\n",
    "For this example we will explore vicinal disulfide bonds in proteins - disulfide bonds between adjacent cysteines in a protein.  Vicinal disulfide bonds are rare in nature but can be biologically important<sup>1</sup>. As the protein backbone is strained from such a linkage, the hypothetical research question for this notebook is whether there are any abnormal NMR chemical shifts associated with such a structure. ![Vicinal Image](vicinal.png)\n",
    "\n",
    "**Figure 1.** This illustration shows a comparison of the abnormal dihedral angles observed for vicinal disulfides (right).  This figure is from the poster presented at the 46th Experimental NMR Conference in Providence, RI. Susan Fox-Erlich, Heidi J.C. Ellis, Timothy O. Martyn, & Michael R. Gryk. (2005) StrucCheck: a JAVA Application to Derive Geometric Attributes from Arbitrary Subsets of Spatial Coordinates Obtained from the PDB.\n",
    "\n",
    "<sup>1</sup>Xiu-hong Wang, Mark Connor, Ross Smith, Mark W. Maciejewski, Merlin E.H. Howden, Graham M. Nicholson, Macdonald J. Christie & Glenn F. King. Discovery and characterization of a family of insecticidal neurotoxins with a rare vicinal disulfide bridge. *Nat Struct Mol Biol* **7**, 505–513 (2000). https://www.nature.com/articles/nsb0600_505 https://doi.org/10.1038/nsb0600_505"
   ]
  },
  {
   "cell_type": "markdown",
   "metadata": {},
   "source": [
    "## Strategy\n",
    "Our overall strategy will be to query the RCSB PDB for all entries which have vicinal disulfide bonds. We will then cross-reference those entries with the BMRB in order to get available chemical shifts. Since we are interested in NMR chemical shifts, when we query the PDB it will be useful to limit our search to structures determined by NMR.\n",
    "\n",
    "First we need to install and import the REST module which will be required for the PDB and BMRB.\n",
    "\n",
    "https://www.rcsb.org/pages/webservices\n",
    "https://github.com/uwbmrb/BMRB-API"
   ]
  },
  {
   "cell_type": "code",
   "execution_count": 1,
   "metadata": {},
   "outputs": [],
   "source": [
    "%%capture\n",
    "!pip install requests;"
   ]
  },
  {
   "cell_type": "code",
   "execution_count": 2,
   "metadata": {},
   "outputs": [],
   "source": [
    "import requests"
   ]
  },
  {
   "cell_type": "markdown",
   "metadata": {},
   "source": [
    "#### Building the PDB Query (Search API)\n",
    "\n",
    "In order to find all PDB entries with vicinal disulfides, we will first search for all entries with at least one disulfide bond.  This is the disulfide_filter portion of the query.\n",
    "In addition, as we are interested in the chemical shifts for vicinal disulfides, we will also restrict the results to only solution NMR studies.\n",
    "Finally, as this is an example for illustration purposes and we want to keep the number of results small, we will further restrict the results to stuctures determined by Glenn King.  Hi Glenn!\n",
    "\n",
    "This section makes use of the Search API at PDB.  Later, we will use the Data API."
   ]
  },
  {
   "cell_type": "code",
   "execution_count": 3,
   "metadata": {},
   "outputs": [],
   "source": [
    "pdbAPI = \"https://search.rcsb.org/rcsbsearch/v1/query?json=\"\n",
    "disulfide_filter = '{\"type\": \"terminal\", \"service\": \"text\", \"parameters\": {\"operator\": \"greater_or_equal\", \"value\": 1, \"attribute\": \"rcsb_entry_info.disulfide_bond_count\"}}'\n",
    "NMR_filter = '{\"type\": \"terminal\", \"service\": \"text\", \"parameters\": {\"operator\": \"exact_match\", \"value\": \"NMR\", \"attribute\": \"rcsb_entry_info.experimental_method\"}}'\n",
    "GK_filter = '{\"type\": \"terminal\", \"service\": \"text\", \"parameters\": {\"operator\": \"exact_match\", \"value\": \"King, G.F.\", \"attribute\": \"audit_author.name\"}}'"
   ]
  },
  {
   "cell_type": "markdown",
   "metadata": {},
   "source": [
    "Now we can combine these three filters together using AND"
   ]
  },
  {
   "cell_type": "code",
   "execution_count": 4,
   "metadata": {},
   "outputs": [],
   "source": [
    "filters = '{\"type\": \"group\", \"logical_operator\": \"and\", \"nodes\": [' + disulfide_filter + ',' + NMR_filter + ',' + GK_filter + ']}'"
   ]
  },
  {
   "cell_type": "markdown",
   "metadata": {},
   "source": [
    "And add the return information.  *Note that we are specifying the polymer_instance ID's as that is where the disulfide bonds are noted.*"
   ]
  },
  {
   "cell_type": "code",
   "execution_count": 5,
   "metadata": {},
   "outputs": [],
   "source": [
    "full_query = '{\"query\": ' + filters + ', \"request_options\": {\"return_all_hits\": true}, \"return_type\": \"polymer_instance\"}'"
   ]
  },
  {
   "cell_type": "markdown",
   "metadata": {},
   "source": [
    "And finally submit the requst to the PDB.  The response should be 200 if the query was successful."
   ]
  },
  {
   "cell_type": "code",
   "execution_count": 6,
   "metadata": {
    "scrolled": true
   },
   "outputs": [
    {
     "name": "stdout",
     "output_type": "stream",
     "text": [
      "<Response [200]>\n"
     ]
    }
   ],
   "source": [
    "response = requests.get(pdbAPI + full_query)\n",
    "print(response) # should return 200"
   ]
  },
  {
   "cell_type": "code",
   "execution_count": 7,
   "metadata": {},
   "outputs": [
    {
     "name": "stdout",
     "output_type": "stream",
     "text": [
      "<class 'dict'>\n"
     ]
    }
   ],
   "source": [
    "print(type(response.json()))\n",
    "#print(response.json())  #uncomment this line if you want to see the results"
   ]
  },
  {
   "cell_type": "markdown",
   "metadata": {},
   "source": [
    "Next we will extract just the PDB codes from our results and build a list."
   ]
  },
  {
   "cell_type": "code",
   "execution_count": 8,
   "metadata": {},
   "outputs": [],
   "source": [
    "pdb_results = response.json()"
   ]
  },
  {
   "cell_type": "code",
   "execution_count": 9,
   "metadata": {},
   "outputs": [
    {
     "name": "stdout",
     "output_type": "stream",
     "text": [
      "['2MFA.A', '1G9P.A', '2MI5.A', '1VTX.A', '6OHX.A', '6AZA.A', '2MPQ.A', '2N1N.A', '2MUB.A', '2N6R.A', '2N6O.A', '2M36.A', '2MUN.A', '2N6N.A', '2KNI.A', '2N8F.A', '1C4E.A', '2M35.A', '6BA3.A', '2MT7.A', '2M6J.A', '2N8K.A', '1JUN.A', '1JUN.B', '6V6T.A', '2KSL.A', '1B8W.A', '1AXH.A', '1HP3.A', '2MF3.A', '6MZT.A', '2NBC.A', '1HVW.A', '2KYJ.A', '1DL0.A', '5WLX.A']\n"
     ]
    }
   ],
   "source": [
    "pdb_list = []\n",
    "for x in pdb_results['result_set']:\n",
    "    pdb_list.append (x['identifier'])\n",
    "print (pdb_list)"
   ]
  },
  {
   "cell_type": "markdown",
   "metadata": {},
   "source": [
    "## PDB Data API\n",
    "The basics of the data API are illustrated with this link:\n",
    "\n",
    "https://data.rcsb.org/rest/v1/core/polymer_entity_instance/1DL0/A\n",
    "\n",
    "This illustrates the REST query string, as well as how we need to append the PDB entry ID and polymer instance to the end."
   ]
  },
  {
   "cell_type": "code",
   "execution_count": 10,
   "metadata": {},
   "outputs": [],
   "source": [
    "data_query_base = \"https://data.rcsb.org/rest/v1/core/polymer_entity_instance/\""
   ]
  },
  {
   "cell_type": "code",
   "execution_count": 11,
   "metadata": {},
   "outputs": [
    {
     "name": "stdout",
     "output_type": "stream",
     "text": [
      "['2MFA/A', '1G9P/A', '2MI5/A', '1VTX/A', '6OHX/A', '6AZA/A', '2MPQ/A', '2N1N/A', '2MUB/A', '2N6R/A', '2N6O/A', '2M36/A', '2MUN/A', '2N6N/A', '2KNI/A', '2N8F/A', '1C4E/A', '2M35/A', '6BA3/A', '2MT7/A', '2M6J/A', '2N8K/A', '1JUN/A', '1JUN/B', '6V6T/A', '2KSL/A', '1B8W/A', '1AXH/A', '1HP3/A', '2MF3/A', '6MZT/A', '2NBC/A', '1HVW/A', '2KYJ/A', '1DL0/A', '5WLX/A']\n"
     ]
    }
   ],
   "source": [
    "def swapSymbols(iter):\n",
    "    return iter.replace(\".\",\"/\")\n",
    "pdb_list2 = list(map(swapSymbols,pdb_list))\n",
    "print(pdb_list2)"
   ]
  },
  {
   "cell_type": "markdown",
   "metadata": {},
   "source": [
    "Now we can loop through each PDB entry and request the polymer_entity_instance information. We will only care about disulfide bridges of adjacent residues"
   ]
  },
  {
   "cell_type": "code",
   "execution_count": 12,
   "metadata": {},
   "outputs": [
    {
     "name": "stdout",
     "output_type": "stream",
     "text": [
      "<Response [200]>\n"
     ]
    }
   ],
   "source": [
    "data_response = requests.get(data_query_base + \"1DL0/A\")\n",
    "print(data_response) # should return 200"
   ]
  },
  {
   "cell_type": "code",
   "execution_count": 13,
   "metadata": {},
   "outputs": [
    {
     "name": "stdout",
     "output_type": "stream",
     "text": [
      "['1DL0']\n"
     ]
    }
   ],
   "source": [
    "vds_list = []\n",
    "for instance in pdb_list2:\n",
    "    data_response = requests.get(data_query_base + instance)\n",
    "    if data_response.status_code == 200:\n",
    "        data_result = data_response.json()\n",
    "        for x in data_result['rcsb_polymer_struct_conn']:\n",
    "            if (x['connect_type'] == 'disulfide bridge' and x['connect_partner']['label_seq_id']-x['connect_target']['label_seq_id']==1):\n",
    "                vds_list.append (data_result['rcsb_polymer_entity_instance_container_identifiers']['entry_id'])\n",
    "print(vds_list)"
   ]
  },
  {
   "cell_type": "markdown",
   "metadata": {},
   "source": [
    "Our list is small (intentionally) but we can now use it to fetch chemical shifts from the BMRB."
   ]
  },
  {
   "cell_type": "markdown",
   "metadata": {},
   "source": [
    "## BMRB API\n",
    "Our first step is to find the corresponding BMRB entries for the PDB entries in our list. The query we want is shown below:\n",
    "\n",
    "http://api.bmrb.io/v2/search/get_bmrb_ids_from_pdb_id/"
   ]
  },
  {
   "cell_type": "code",
   "execution_count": 14,
   "metadata": {},
   "outputs": [],
   "source": [
    "BMRB_LookupString = 'http://api.bmrb.io/v2/search/get_bmrb_ids_from_pdb_id/'"
   ]
  },
  {
   "cell_type": "code",
   "execution_count": 15,
   "metadata": {},
   "outputs": [
    {
     "name": "stdout",
     "output_type": "stream",
     "text": [
      "['16140', '4685']\n"
     ]
    }
   ],
   "source": [
    "BMRB_ID_List = []\n",
    "for PDB_ID in vds_list:\n",
    "    BMRB_response = requests.get(BMRB_LookupString + PDB_ID)\n",
    "    if BMRB_response.status_code == 200:\n",
    "        BMRB_result = BMRB_response.json()\n",
    "        for x in BMRB_result:\n",
    "            for y in x['match_types']:\n",
    "                if y == 'Author Provided':\n",
    "                    BMRB_ID_List.append (x['bmrb_id'])\n",
    "print(BMRB_ID_List)"
   ]
  },
  {
   "cell_type": "code",
   "execution_count": 16,
   "metadata": {},
   "outputs": [],
   "source": [
    "chemical_shifts_list = []\n",
    "for ID in BMRB_ID_List:\n",
    "    x = requests.get(\"http://api.bmrb.io/v2/entry/\" + ID + \"?saveframe_category=assigned_chemical_shifts\")\n",
    "    chemical_shifts_list.append (x.json())\n",
    "#print(chemical_shifts_list)"
   ]
  },
  {
   "cell_type": "markdown",
   "metadata": {},
   "source": [
    "### Alternate Approach\n",
    "Look up through the BMRB adit_nmr_match csv file"
   ]
  },
  {
   "cell_type": "markdown",
   "metadata": {},
   "source": [
    "loop_\n",
    "\n",
    "      _Assembly_db_link.Author_supplied\n",
    "      _Assembly_db_link.Database_code\n",
    "      _Assembly_db_link.Accession_code\n",
    "      _Assembly_db_link.Entry_mol_code\n",
    "      _Assembly_db_link.Entry_mol_name\n",
    "      _Assembly_db_link.Entry_experimental_method\n",
    "      _Assembly_db_link.Entry_structure_resolution\n",
    "      _Assembly_db_link.Entry_relation_type\n",
    "      _Assembly_db_link.Entry_details\n",
    "      _Assembly_db_link.Entry_ID\n",
    "      _Assembly_db_link.Assembly_ID\n",
    "\n",
    "      yes   PDB   1AXH   .   .   .   .   ."
   ]
  },
  {
   "cell_type": "code",
   "execution_count": 17,
   "metadata": {},
   "outputs": [],
   "source": [
    "bmrb_link = \"https://bmrb.io/ftp/pub/bmrb/nmr_pdb_integrated_data/adit_nmr_matched_pdb_bmrb_entry_ids.csv\""
   ]
  }
 ],
 "metadata": {
  "kernelspec": {
   "display_name": "Python 3",
   "language": "python",
   "name": "python3"
  },
  "language_info": {
   "codemirror_mode": {
    "name": "ipython",
    "version": 3
   },
   "file_extension": ".py",
   "mimetype": "text/x-python",
   "name": "python",
   "nbconvert_exporter": "python",
   "pygments_lexer": "ipython3",
   "version": "3.8.1"
  }
 },
 "nbformat": 4,
 "nbformat_minor": 4
}
